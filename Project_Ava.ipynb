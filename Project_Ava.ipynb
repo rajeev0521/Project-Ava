{
  "nbformat": 4,
  "nbformat_minor": 0,
  "metadata": {
    "colab": {
      "provenance": [],
      "authorship_tag": "ABX9TyPrgkmVoHvrpZA4b7bGWOCA",
      "include_colab_link": true
    },
    "kernelspec": {
      "name": "python3",
      "display_name": "Python 3"
    },
    "language_info": {
      "name": "python"
    }
  },
  "cells": [
    {
      "cell_type": "markdown",
      "metadata": {
        "id": "view-in-github",
        "colab_type": "text"
      },
      "source": [
        "<a href=\"https://colab.research.google.com/github/rajeev0521/Project-Ava/blob/main/Project_Ava.ipynb\" target=\"_parent\"><img src=\"https://colab.research.google.com/assets/colab-badge.svg\" alt=\"Open In Colab\"/></a>"
      ]
    },
    {
      "cell_type": "markdown",
      "source": [
        "# Project Ava"
      ],
      "metadata": {
        "id": "q6WsWGhnmhOS"
      }
    },
    {
      "cell_type": "markdown",
      "source": [
        "## importing All dependencies"
      ],
      "metadata": {
        "id": "9eplOToWmmh0"
      }
    },
    {
      "cell_type": "code",
      "source": [
        "!pip install pvporcupine"
      ],
      "metadata": {
        "colab": {
          "base_uri": "https://localhost:8080/"
        },
        "id": "I2RGHWWiWgTM",
        "outputId": "3ae405a7-e7a6-4fc2-f301-f926879e7edc"
      },
      "execution_count": 1,
      "outputs": [
        {
          "output_type": "stream",
          "name": "stdout",
          "text": [
            "Collecting pvporcupine\n",
            "  Downloading pvporcupine-3.0.3-py3-none-any.whl.metadata (4.8 kB)\n",
            "Downloading pvporcupine-3.0.3-py3-none-any.whl (2.4 MB)\n",
            "\u001b[2K   \u001b[90m━━━━━━━━━━━━━━━━━━━━━━━━━━━━━━━━━━━━━━━━\u001b[0m \u001b[32m2.4/2.4 MB\u001b[0m \u001b[31m4.1 MB/s\u001b[0m eta \u001b[36m0:00:00\u001b[0m\n",
            "\u001b[?25hInstalling collected packages: pvporcupine\n",
            "Successfully installed pvporcupine-3.0.3\n"
          ]
        }
      ]
    },
    {
      "cell_type": "code",
      "execution_count": 10,
      "metadata": {
        "id": "BtuKT_KyZ2Dz"
      },
      "outputs": [],
      "source": [
        "import pvporcupine\n",
        "\n",
        "porcupine = pvporcupine.create(\n",
        "  access_key='OVz3eek7git/KJvx4B8eYkUfe7Zt/FJ0QpegGpMVxdzfDgJ1TS+aNw==',\n",
        "  keywords=['bumblebee']\n",
        ")\n"
      ]
    }
  ]
}