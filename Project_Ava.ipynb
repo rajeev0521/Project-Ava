{
  "nbformat": 4,
  "nbformat_minor": 0,
  "metadata": {
    "colab": {
      "provenance": [],
      "authorship_tag": "ABX9TyOnW+npjosyNr4nI4EwH6hz",
      "include_colab_link": true
    },
    "kernelspec": {
      "name": "python3",
      "display_name": "Python 3"
    },
    "language_info": {
      "name": "python"
    }
  },
  "cells": [
    {
      "cell_type": "markdown",
      "metadata": {
        "id": "view-in-github",
        "colab_type": "text"
      },
      "source": [
        "<a href=\"https://colab.research.google.com/github/rajeev0521/Project-Ava/blob/main/Project_Ava.ipynb\" target=\"_parent\"><img src=\"https://colab.research.google.com/assets/colab-badge.svg\" alt=\"Open In Colab\"/></a>"
      ]
    },
    {
      "cell_type": "markdown",
      "source": [
        "# Project Ava"
      ],
      "metadata": {
        "id": "q6WsWGhnmhOS"
      }
    },
    {
      "cell_type": "markdown",
      "source": [
        "## importing All dependencies"
      ],
      "metadata": {
        "id": "9eplOToWmmh0"
      }
    },
    {
      "cell_type": "code",
      "source": [
        "!pip install pvporcupine"
      ],
      "metadata": {
        "colab": {
          "base_uri": "https://localhost:8080/"
        },
        "id": "I2RGHWWiWgTM",
        "outputId": "3ae405a7-e7a6-4fc2-f301-f926879e7edc"
      },
      "execution_count": 1,
      "outputs": [
        {
          "output_type": "stream",
          "name": "stdout",
          "text": [
            "Collecting pvporcupine\n",
            "  Downloading pvporcupine-3.0.3-py3-none-any.whl.metadata (4.8 kB)\n",
            "Downloading pvporcupine-3.0.3-py3-none-any.whl (2.4 MB)\n",
            "\u001b[2K   \u001b[90m━━━━━━━━━━━━━━━━━━━━━━━━━━━━━━━━━━━━━━━━\u001b[0m \u001b[32m2.4/2.4 MB\u001b[0m \u001b[31m4.1 MB/s\u001b[0m eta \u001b[36m0:00:00\u001b[0m\n",
            "\u001b[?25hInstalling collected packages: pvporcupine\n",
            "Successfully installed pvporcupine-3.0.3\n"
          ]
        }
      ]
    },
    {
      "cell_type": "code",
      "source": [
        "!apt-get install portaudio19-dev\n",
        "!pip install pyaudio\n"
      ],
      "metadata": {
        "colab": {
          "base_uri": "https://localhost:8080/"
        },
        "id": "zDQ0TLSXiy8p",
        "outputId": "f3a2c95e-55e4-42c0-a71e-850169d2136b"
      },
      "execution_count": 18,
      "outputs": [
        {
          "output_type": "stream",
          "name": "stdout",
          "text": [
            "Reading package lists... Done\n",
            "Building dependency tree... Done\n",
            "Reading state information... Done\n",
            "The following additional packages will be installed:\n",
            "  libportaudio2 libportaudiocpp0\n",
            "Suggested packages:\n",
            "  portaudio19-doc\n",
            "The following NEW packages will be installed:\n",
            "  libportaudio2 libportaudiocpp0 portaudio19-dev\n",
            "0 upgraded, 3 newly installed, 0 to remove and 49 not upgraded.\n",
            "Need to get 188 kB of archives.\n",
            "After this operation, 927 kB of additional disk space will be used.\n",
            "Get:1 http://archive.ubuntu.com/ubuntu jammy/universe amd64 libportaudio2 amd64 19.6.0-1.1 [65.3 kB]\n",
            "Get:2 http://archive.ubuntu.com/ubuntu jammy/universe amd64 libportaudiocpp0 amd64 19.6.0-1.1 [16.1 kB]\n",
            "Get:3 http://archive.ubuntu.com/ubuntu jammy/universe amd64 portaudio19-dev amd64 19.6.0-1.1 [106 kB]\n",
            "Fetched 188 kB in 2s (113 kB/s)\n",
            "Selecting previously unselected package libportaudio2:amd64.\n",
            "(Reading database ... 123599 files and directories currently installed.)\n",
            "Preparing to unpack .../libportaudio2_19.6.0-1.1_amd64.deb ...\n",
            "Unpacking libportaudio2:amd64 (19.6.0-1.1) ...\n",
            "Selecting previously unselected package libportaudiocpp0:amd64.\n",
            "Preparing to unpack .../libportaudiocpp0_19.6.0-1.1_amd64.deb ...\n",
            "Unpacking libportaudiocpp0:amd64 (19.6.0-1.1) ...\n",
            "Selecting previously unselected package portaudio19-dev:amd64.\n",
            "Preparing to unpack .../portaudio19-dev_19.6.0-1.1_amd64.deb ...\n",
            "Unpacking portaudio19-dev:amd64 (19.6.0-1.1) ...\n",
            "Setting up libportaudio2:amd64 (19.6.0-1.1) ...\n",
            "Setting up libportaudiocpp0:amd64 (19.6.0-1.1) ...\n",
            "Setting up portaudio19-dev:amd64 (19.6.0-1.1) ...\n",
            "Processing triggers for libc-bin (2.35-0ubuntu3.4) ...\n",
            "/sbin/ldconfig.real: /usr/local/lib/libtbbmalloc.so.2 is not a symbolic link\n",
            "\n",
            "/sbin/ldconfig.real: /usr/local/lib/libur_adapter_opencl.so.0 is not a symbolic link\n",
            "\n",
            "/sbin/ldconfig.real: /usr/local/lib/libtbbmalloc_proxy.so.2 is not a symbolic link\n",
            "\n",
            "/sbin/ldconfig.real: /usr/local/lib/libur_loader.so.0 is not a symbolic link\n",
            "\n",
            "/sbin/ldconfig.real: /usr/local/lib/libtbbbind.so.3 is not a symbolic link\n",
            "\n",
            "/sbin/ldconfig.real: /usr/local/lib/libtbbbind_2_5.so.3 is not a symbolic link\n",
            "\n",
            "/sbin/ldconfig.real: /usr/local/lib/libur_adapter_level_zero.so.0 is not a symbolic link\n",
            "\n",
            "/sbin/ldconfig.real: /usr/local/lib/libtbb.so.12 is not a symbolic link\n",
            "\n",
            "/sbin/ldconfig.real: /usr/local/lib/libtbbbind_2_0.so.3 is not a symbolic link\n",
            "\n",
            "Collecting pyaudio\n",
            "  Using cached PyAudio-0.2.14.tar.gz (47 kB)\n",
            "  Installing build dependencies ... \u001b[?25l\u001b[?25hdone\n",
            "  Getting requirements to build wheel ... \u001b[?25l\u001b[?25hdone\n",
            "  Preparing metadata (pyproject.toml) ... \u001b[?25l\u001b[?25hdone\n",
            "Building wheels for collected packages: pyaudio\n",
            "  Building wheel for pyaudio (pyproject.toml) ... \u001b[?25l\u001b[?25hdone\n",
            "  Created wheel for pyaudio: filename=PyAudio-0.2.14-cp310-cp310-linux_x86_64.whl size=63856 sha256=06ba6229e82cb9c37189294e215f66bcb15030d9c6e8d4768f4dcb9fe9e258e0\n",
            "  Stored in directory: /root/.cache/pip/wheels/d6/21/f4/0b51d41ba79e51b16295cbb096ec49f334792814d545b508c5\n",
            "Successfully built pyaudio\n",
            "Installing collected packages: pyaudio\n",
            "Successfully installed pyaudio-0.2.14\n"
          ]
        }
      ]
    },
    {
      "cell_type": "code",
      "execution_count": 15,
      "metadata": {
        "id": "BtuKT_KyZ2Dz"
      },
      "outputs": [],
      "source": [
        "import pvporcupine\n",
        "\n",
        "keyword_paths = ['/content/Hey-Ava_en_linux_v3_0_0.ppn'] # Use keyword_paths argument for custom keywords\n",
        "\n",
        "porcupine = pvporcupine.create(\n",
        "  access_key='OVz3eek7git/KJvx4B8eYkUfe7Zt/FJ0QpegGpMVxdzfDgJ1TS+aNw==',\n",
        "  keyword_paths=keyword_paths # Pass the custom keyword file path\n",
        ")"
      ]
    },
    {
      "cell_type": "code",
      "source": [
        "import pyaudio\n",
        "import struct\n",
        "\n",
        "\n",
        "# Initialize PyAudio\n",
        "pa = pyaudio.PyAudio()\n",
        "\n",
        "# Open the default microphone stream\n",
        "audio_stream = pa.open(\n",
        "    rate=porcupine.sample_rate,\n",
        "    channels=1,\n",
        "    format=pyaudio.paInt16,\n",
        "    input=True,\n",
        "    frames_per_buffer=porcupine.frame_length\n",
        ")\n",
        "\n",
        "print(\"Listening for the wake word 'Hey Ava'...\")\n",
        "\n",
        "try:\n",
        "    while True:\n",
        "        # Read a frame of audio data\n",
        "        pcm = audio_stream.read(porcupine.frame_length, exception_on_overflow=False)\n",
        "        pcm = struct.unpack_from(\"h\" * porcupine.frame_length, pcm)\n",
        "\n",
        "        # Process the audio frame with Porcupine\n",
        "        keyword_index = porcupine.process(pcm)\n",
        "\n",
        "        if keyword_index >= 0:\n",
        "            # If wake word detected\n",
        "            print(\"Hello Sir, how can I help you?\")\n",
        "except KeyboardInterrupt:\n",
        "    # Gracefully close audio stream on interrupt\n",
        "    print(\"Stopping...\")\n",
        "finally:\n",
        "    audio_stream.close()\n",
        "    pa.terminate()\n",
        "    porcupine.delete()"
      ],
      "metadata": {
        "id": "iMO_uOl0kZc8"
      },
      "execution_count": null,
      "outputs": []
    }
  ]
}